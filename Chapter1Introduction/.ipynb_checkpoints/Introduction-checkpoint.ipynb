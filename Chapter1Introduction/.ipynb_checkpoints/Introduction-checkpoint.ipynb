{
 "cells": [
  {
   "cell_type": "markdown",
   "metadata": {},
   "source": [
    "[Go back to the main page](https://leonpalafox.github.io/MLClass/)"
   ]
  },
  {
   "cell_type": "markdown",
   "metadata": {},
   "source": [
    "- [What is Machine Learning](#what_is_machine_learning)\n",
    "- [Modern applications of Machine Learning](#machine_learning_apps)\n",
    "- [Machine Learning in Planetary Sciences](#machine_learning_ps)"
   ]
  },
  {
   "cell_type": "markdown",
   "metadata": {},
   "source": [
    "# Introduction"
   ]
  },
  {
   "cell_type": "markdown",
   "metadata": {},
   "source": [
    "<a id='what_is_machine_learning'></a>\n",
    "\n",
    "[Data Science Tutorial]()"
   ]
  },
  {
   "cell_type": "markdown",
   "metadata": {},
   "source": [
    "## What is Machine Learning?"
   ]
  },
  {
   "cell_type": "markdown",
   "metadata": {},
   "source": [
    "During the 1980s-1990s, much of what we call now Machine Learning was referred as Artificial Intelligence (AI). AI was an umbrella term for any field of study concerned with automation via learning.\n",
    "\n",
    "- Neural Networks\n",
    "- Genetic Algorithms\n",
    "- Fuzzy Logic\n",
    "- Probabilistic Models\n",
    "\n",
    "Due to a mixture of excitement-buzz-novelty and unfulfilled promises, funding for AI dried (In some countries it even dissapeared). Which brought the AI winter. \n",
    "\n",
    "At the late 1990s, and early 2000s, many people started to use more formal tools for learning, people with background in statistics and math started addressing the learning problem. \n",
    "\n",
    "AI was rebranded as Machine Learning (ML), and many algorithms from AI were absorbed into the ML community.\n",
    "\n",
    "- Support Vector Machines\n",
    "- K-Means\n",
    "- Linear Regression\n",
    "- Bayesian Inference\n",
    "\n",
    "---\n",
    "\n",
    "At the onset of this reinassance, Neural Networks (the ugly child) were rebranded as Deep Learning, and created a boom in the industry."
   ]
  },
  {
   "cell_type": "markdown",
   "metadata": {},
   "source": [
    "[![Hello](images/2016_08_17_11_09_10_machine_learning_Explore_Google_Trends.png)](https://www.google.com/trends/explore?date=all&q=machine%20learning)"
   ]
  },
  {
   "cell_type": "markdown",
   "metadata": {},
   "source": [
    "### But really, what is Machine Learning?"
   ]
  },
  {
   "cell_type": "markdown",
   "metadata": {},
   "source": [
    "Machine Learning doesn not have a formal definition but it is a subfield of Computer Science that megres Statistics, Probability, Optimization and Software Engineering to create automated systems and analyze data in a fast and efficient way."
   ]
  },
  {
   "cell_type": "markdown",
   "metadata": {},
   "source": [
    "<a id='machine_learning_apps'></a>"
   ]
  },
  {
   "cell_type": "markdown",
   "metadata": {},
   "source": [
    "# Who is using Machine Learning today?"
   ]
  },
  {
   "cell_type": "markdown",
   "metadata": {},
   "source": [
    "![Go Champion](images/go_news.png)"
   ]
  },
  {
   "cell_type": "markdown",
   "metadata": {},
   "source": [
    "![Apple_ml](images/apple_ml.png)"
   ]
  },
  {
   "cell_type": "markdown",
   "metadata": {},
   "source": [
    "![Elon Musk](images/elon_muskml.png)"
   ]
  },
  {
   "cell_type": "markdown",
   "metadata": {},
   "source": [
    "![Farming](images/farming_ml.png)"
   ]
  },
  {
   "cell_type": "markdown",
   "metadata": {
    "collapsed": true
   },
   "source": [
    "![Crystal](images/crystal_ball.png)"
   ]
  },
  {
   "cell_type": "markdown",
   "metadata": {},
   "source": [
    "# Machine Learning in Planetary Sciences"
   ]
  },
  {
   "cell_type": "markdown",
   "metadata": {},
   "source": [
    "<a id='machine_learning_ps'></a>"
   ]
  },
  {
   "cell_type": "markdown",
   "metadata": {},
   "source": [
    "- [Xie, Michael, et al. \"Transfer learning from deep features for remote sensing and poverty mapping.\" arXiv preprint arXiv:1510.00098 (2015).](https://arxiv.org/abs/1510.00098)\n",
    "\n",
    " The model learns filters identifying different terrains and man-made structures, including roads, buildings, and farmlands, without any supervision beyond nighttime lights. We demonstrate that these learned features are highly informative for poverty mapping, even approaching the predictive performance of survey data collected in the field.\n",
    "\n",
    "![Uganda](images/uganda.png)"
   ]
  },
  {
   "cell_type": "markdown",
   "metadata": {},
   "source": [
    "[Chignell, Stephen M., et al. \"Multi-temporal independent component analysis and Landsat 8 for delineating maximum extent of the 2013 Colorado front range flood.\" Remote Sensing 7.8 (2015): 9822-9843.] (http://www.mdpi.com/2072-4292/7/8/9822)\n",
    "\n",
    "Nevertheless, the unsupervised nature of ICA, in conjunction with the global availability of Landsat imagery, offers a straightforward, robust, and flexible approach to flood mapping that requires no ancillary data for rapid implementation. Finally, the spatial layer of flood extent and a summary of impacts were provided for use in the region’s ongoing hydrologic research and mitigation planning.\n",
    " \n",
    " ![ica_flood](images/ica_flood.png)\n"
   ]
  },
  {
   "cell_type": "markdown",
   "metadata": {},
   "source": [
    "[Our own LPSC paper](http://www.hou.usra.edu/meetings/lpsc2015/pdf/2316.pdf)\n",
    "\n",
    "We used Convolutional Neural Networks to do automatic landform detection.\n",
    "\n",
    "![TAR Cnn](images/tar_cnn.png)"
   ]
  },
  {
   "cell_type": "markdown",
   "metadata": {},
   "source": [
    "<a id='machine_learning_summary'></a>"
   ]
  },
  {
   "cell_type": "markdown",
   "metadata": {},
   "source": [
    "[Go back to the main page](https://leonpalafox.github.io/MLClass/)"
   ]
  }
 ],
 "metadata": {
  "kernelspec": {
   "display_name": "Python 2",
   "language": "python",
   "name": "python2"
  },
  "language_info": {
   "codemirror_mode": {
    "name": "ipython",
    "version": 2
   },
   "file_extension": ".py",
   "mimetype": "text/x-python",
   "name": "python",
   "nbconvert_exporter": "python",
   "pygments_lexer": "ipython2",
   "version": "2.7.11"
  }
 },
 "nbformat": 4,
 "nbformat_minor": 0
}
