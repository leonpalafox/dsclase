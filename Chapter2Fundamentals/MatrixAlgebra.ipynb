{
 "cells": [
  {
   "cell_type": "markdown",
   "metadata": {},
   "source": [
    "# Matrix Algebra"
   ]
  },
  {
   "cell_type": "markdown",
   "metadata": {},
   "source": [
    "## Resources\n",
    "\n",
    "- [Matrix Cookbook](https://www.math.uwaterloo.ca/~hwolkowi/matrixcookbook.pdf)\n",
    "- [First Chapter of Yoshua Bengio's Deep Learning book](http://www.deeplearningbook.org/contents/linear_algebra.html)\n",
    "- [QA Site](http://stackoverflow.com/)"
   ]
  },
  {
   "cell_type": "code",
   "execution_count": 3,
   "metadata": {},
   "outputs": [],
   "source": [
    "import numpy as np"
   ]
  },
  {
   "cell_type": "code",
   "execution_count": 5,
   "metadata": {},
   "outputs": [
    {
     "name": "stdout",
     "output_type": "stream",
     "text": [
      "Vec_1 is equal to \n",
      " [[0.11470737 0.70585435 0.07335472 0.75379075]]\n",
      "Vec_2 is equal to \n",
      " [[0.37820647 0.82702658 0.94802622 0.52550355]\n",
      " [0.31785283 0.85584391 0.39585975 0.66224704]\n",
      " [0.63366466 0.22292852 0.14107911 0.63826139]\n",
      " [0.49811067 0.1986011  0.05369269 0.61052512]]\n"
     ]
    }
   ],
   "source": [
    "#np.random.rand generates random values between 0 and 1 of size (n,m)\n",
    "vec_1 = np.random.rand(1, 4) #write commas as in writing, with a space after the comma\n",
    "vec_2 = np.random.rand(4, 4) #use underscores and descriptive names\n",
    "print('Vec_1 is equal to \\n', vec_1)\n",
    "print('Vec_2 is equal to \\n', vec_2)"
   ]
  },
  {
   "cell_type": "markdown",
   "metadata": {},
   "source": [
    "Both vectors are also matrices."
   ]
  },
  {
   "cell_type": "code",
   "execution_count": 8,
   "metadata": {},
   "outputs": [
    {
     "name": "stdout",
     "output_type": "stream",
     "text": [
      "1.985654611910559\n"
     ]
    }
   ],
   "source": [
    "print( np.trace(vec_2)) #Trace"
   ]
  },
  {
   "cell_type": "code",
   "execution_count": 9,
   "metadata": {},
   "outputs": [
    {
     "name": "stdout",
     "output_type": "stream",
     "text": [
      "[[0.37820647 0.31785283 0.63366466 0.49811067]\n",
      " [0.82702658 0.85584391 0.22292852 0.1986011 ]\n",
      " [0.94802622 0.39585975 0.14107911 0.05369269]\n",
      " [0.52550355 0.66224704 0.63826139 0.61052512]]\n"
     ]
    }
   ],
   "source": [
    "print (vec_2.T) #Transpose"
   ]
  },
  {
   "cell_type": "code",
   "execution_count": 10,
   "metadata": {},
   "outputs": [
    {
     "name": "stdout",
     "output_type": "stream",
     "text": [
      "[0.37820647 0.85584391 0.14107911 0.61052512]\n"
     ]
    }
   ],
   "source": [
    "print( np.diag(vec_2))"
   ]
  },
  {
   "cell_type": "code",
   "execution_count": 11,
   "metadata": {},
   "outputs": [
    {
     "name": "stdout",
     "output_type": "stream",
     "text": [
      "[[1.26840251 1.33630014 0.84789859 1.6723664 ]\n",
      " [0.97296106 1.21511296 0.73153235 1.39079334]\n",
      " [0.71783619 0.87305951 0.74315243 0.96034674]\n",
      " [0.58964684 0.7151429  0.59119581 0.80029281]]\n"
     ]
    }
   ],
   "source": [
    "print( np.dot(vec_2, vec_2))"
   ]
  },
  {
   "cell_type": "code",
   "execution_count": 12,
   "metadata": {},
   "outputs": [
    {
     "name": "stdout",
     "output_type": "stream",
     "text": [
      "[[1.08496955]]\n"
     ]
    }
   ],
   "source": [
    "print (np.dot(vec_1, vec_1.T))"
   ]
  },
  {
   "cell_type": "code",
   "execution_count": 13,
   "metadata": {},
   "outputs": [
    {
     "name": "stdout",
     "output_type": "stream",
     "text": [
      "[[0.17754402 0.44432531 0.8444562  0.33286216]]\n",
      "[0.75629839 0.30692033 0.07620945 0.73109093]\n"
     ]
    }
   ],
   "source": [
    "'''\n",
    "This is another way to make block comments in python,\n",
    "\n",
    "Bug warning!!!!\n",
    "'''\n",
    "vec_1 = np.random.rand(1, 4) #write commas as in writing, with a space after the comma\n",
    "vec_1_ = np.random.rand(4)\n",
    "\n",
    "print (vec_1) #this is a 2D array (matrix) of size 1x4\n",
    "print (vec_1_) #this is a 1D array of size 4"
   ]
  },
  {
   "cell_type": "code",
   "execution_count": 14,
   "metadata": {},
   "outputs": [
    {
     "name": "stdout",
     "output_type": "stream",
     "text": [
      "1.2064891686485388\n"
     ]
    }
   ],
   "source": [
    "#This can generate confusion and some bugs\n",
    "print (np.dot(vec_1_, vec_1_)) #This works! And returns a scalar"
   ]
  },
  {
   "cell_type": "code",
   "execution_count": 15,
   "metadata": {},
   "outputs": [
    {
     "ename": "ValueError",
     "evalue": "shapes (1,4) and (1,4) not aligned: 4 (dim 1) != 1 (dim 0)",
     "output_type": "error",
     "traceback": [
      "\u001b[1;31m---------------------------------------------------------------------------\u001b[0m",
      "\u001b[1;31mValueError\u001b[0m                                Traceback (most recent call last)",
      "\u001b[1;32m<ipython-input-15-7d23762a8ed2>\u001b[0m in \u001b[0;36m<module>\u001b[1;34m()\u001b[0m\n\u001b[1;32m----> 1\u001b[1;33m \u001b[0mprint\u001b[0m \u001b[1;33m(\u001b[0m\u001b[0mnp\u001b[0m\u001b[1;33m.\u001b[0m\u001b[0mdot\u001b[0m\u001b[1;33m(\u001b[0m\u001b[0mvec_1\u001b[0m\u001b[1;33m,\u001b[0m \u001b[0mvec_1\u001b[0m\u001b[1;33m)\u001b[0m\u001b[1;33m)\u001b[0m \u001b[1;31m#This doesn't work\u001b[0m\u001b[1;33m\u001b[0m\u001b[0m\n\u001b[0m",
      "\u001b[1;31mValueError\u001b[0m: shapes (1,4) and (1,4) not aligned: 4 (dim 1) != 1 (dim 0)"
     ]
    }
   ],
   "source": [
    "print (np.dot(vec_1, vec_1)) #This doesn't work"
   ]
  },
  {
   "cell_type": "code",
   "execution_count": 16,
   "metadata": {},
   "outputs": [
    {
     "name": "stdout",
     "output_type": "stream",
     "text": [
      "[[1.05285035]]\n"
     ]
    }
   ],
   "source": [
    "# When np.dot detects a 1D array, operates as vector's inner product.\n",
    "# When it detects 2D arrays it operates as matrix multiplication\n",
    "# Is not possible to multiply a 1x4 matrix by a 1x4 matrix\n",
    "# We can use the transpose\n",
    "\n",
    "print (np.dot(vec_1, vec_1.T)) #This works, but the output is not a scalar is a 1x1 Matrix (yes, it sounds ridiculous)"
   ]
  },
  {
   "cell_type": "markdown",
   "metadata": {},
   "source": [
    "Let's play with indexes."
   ]
  },
  {
   "cell_type": "code",
   "execution_count": 17,
   "metadata": {},
   "outputs": [
    {
     "name": "stdout",
     "output_type": "stream",
     "text": [
      "[0.75629839 0.30692033 0.07620945 0.73109093]\n",
      "[0.73109093 0.07620945 0.30692033 0.75629839]\n"
     ]
    }
   ],
   "source": [
    "print( vec_1_ )\n",
    "print (vec_1_[::-1]) #inverts the order"
   ]
  },
  {
   "cell_type": "code",
   "execution_count": 18,
   "metadata": {},
   "outputs": [
    {
     "name": "stdout",
     "output_type": "stream",
     "text": [
      "0.7562983897380637\n",
      "0.7310909267269897\n"
     ]
    }
   ],
   "source": [
    "print (vec_1_[0]) #first element\n",
    "print( vec_1_[-1]) #last element"
   ]
  },
  {
   "cell_type": "code",
   "execution_count": 19,
   "metadata": {},
   "outputs": [
    {
     "name": "stdout",
     "output_type": "stream",
     "text": [
      "[ True False False  True]\n"
     ]
    }
   ],
   "source": [
    "print (vec_1_>0.5)"
   ]
  },
  {
   "cell_type": "code",
   "execution_count": 20,
   "metadata": {},
   "outputs": [
    {
     "name": "stdout",
     "output_type": "stream",
     "text": [
      "(array([0, 3], dtype=int64),)\n"
     ]
    }
   ],
   "source": [
    "print (np.nonzero(vec_1_>0.5))"
   ]
  },
  {
   "cell_type": "code",
   "execution_count": 21,
   "metadata": {},
   "outputs": [
    {
     "name": "stdout",
     "output_type": "stream",
     "text": [
      "(array([0, 3], dtype=int64),)\n"
     ]
    }
   ],
   "source": [
    "print (np.nonzero(vec_1_>0.5))"
   ]
  },
  {
   "cell_type": "code",
   "execution_count": 22,
   "metadata": {},
   "outputs": [
    {
     "name": "stdout",
     "output_type": "stream",
     "text": [
      "[0.75629839 0.73109093]\n"
     ]
    }
   ],
   "source": [
    "print (vec_1_[np.nonzero(vec_1_>0.5)])"
   ]
  },
  {
   "cell_type": "code",
   "execution_count": 23,
   "metadata": {},
   "outputs": [
    {
     "name": "stdout",
     "output_type": "stream",
     "text": [
      "[0.75629839 0.30692033 0.07620945 0.73109093 0.75629839 0.30692033\n",
      " 0.07620945 0.73109093]\n"
     ]
    }
   ],
   "source": [
    "print (np.hstack((vec_1_, vec_1_)))"
   ]
  },
  {
   "cell_type": "code",
   "execution_count": 24,
   "metadata": {},
   "outputs": [
    {
     "name": "stdout",
     "output_type": "stream",
     "text": [
      "[[0.75629839 0.30692033 0.07620945 0.73109093]\n",
      " [0.75629839 0.30692033 0.07620945 0.73109093]]\n"
     ]
    }
   ],
   "source": [
    "print (np.vstack((vec_1_, vec_1_)))"
   ]
  },
  {
   "cell_type": "code",
   "execution_count": 25,
   "metadata": {},
   "outputs": [
    {
     "name": "stdout",
     "output_type": "stream",
     "text": [
      "(2, 4)\n"
     ]
    }
   ],
   "source": [
    "print (np.vstack((vec_1_, vec_1_)).shape)"
   ]
  },
  {
   "cell_type": "code",
   "execution_count": 26,
   "metadata": {},
   "outputs": [
    {
     "name": "stdout",
     "output_type": "stream",
     "text": [
      "[[0.37820647 0.82702658 0.94802622 0.52550355]\n",
      " [0.31785283 0.85584391 0.39585975 0.66224704]\n",
      " [0.63366466 0.22292852 0.14107911 0.63826139]\n",
      " [0.49811067 0.1986011  0.05369269 0.61052512]]\n"
     ]
    }
   ],
   "source": [
    "print (vec_2)"
   ]
  },
  {
   "cell_type": "code",
   "execution_count": 27,
   "metadata": {},
   "outputs": [
    {
     "name": "stdout",
     "output_type": "stream",
     "text": [
      "[[0.75641295 1.65405317 1.89605244 1.05100709]\n",
      " [0.63570567 1.71168782 0.79171951 1.32449408]\n",
      " [1.26732932 0.44585705 0.28215821 1.27652278]\n",
      " [0.99622133 0.3972022  0.10738538 1.22105024]]\n"
     ]
    }
   ],
   "source": [
    "print (vec_2+vec_2) #elementwise sum"
   ]
  },
  {
   "cell_type": "code",
   "execution_count": 28,
   "metadata": {},
   "outputs": [
    {
     "name": "stdout",
     "output_type": "stream",
     "text": [
      "[[0.14304014 0.68397297 0.89875372 0.27615398]\n",
      " [0.10103042 0.7324688  0.15670494 0.43857114]\n",
      " [0.4015309  0.04969713 0.01990331 0.4073776 ]\n",
      " [0.24811424 0.0394424  0.00288291 0.37274093]]\n"
     ]
    }
   ],
   "source": [
    "print (vec_2*vec_2 )#elementwise product (not Matrix Multiplication!)"
   ]
  },
  {
   "cell_type": "code",
   "execution_count": 29,
   "metadata": {},
   "outputs": [
    {
     "name": "stdout",
     "output_type": "stream",
     "text": [
      "[[1.26840251 1.33630014 0.84789859 1.6723664 ]\n",
      " [0.97296106 1.21511296 0.73153235 1.39079334]\n",
      " [0.71783619 0.87305951 0.74315243 0.96034674]\n",
      " [0.58964684 0.7151429  0.59119581 0.80029281]]\n"
     ]
    }
   ],
   "source": [
    "print (np.dot(vec_2, vec_2))"
   ]
  },
  {
   "cell_type": "code",
   "execution_count": 30,
   "metadata": {},
   "outputs": [
    {
     "name": "stdout",
     "output_type": "stream",
     "text": [
      "-0.02037026984650801\n"
     ]
    }
   ],
   "source": [
    "print (np.linalg.det(vec_2))"
   ]
  },
  {
   "cell_type": "code",
   "execution_count": 31,
   "metadata": {},
   "outputs": [
    {
     "name": "stdout",
     "output_type": "stream",
     "text": [
      "[[0.14304014 0.68397297 0.89875372 0.27615398]\n",
      " [0.10103042 0.7324688  0.15670494 0.43857114]\n",
      " [0.4015309  0.04969713 0.01990331 0.4073776 ]\n",
      " [0.24811424 0.0394424  0.00288291 0.37274093]]\n"
     ]
    }
   ],
   "source": [
    "print (np.power(vec_2, 2))"
   ]
  },
  {
   "cell_type": "code",
   "execution_count": 32,
   "metadata": {},
   "outputs": [
    {
     "name": "stdout",
     "output_type": "stream",
     "text": [
      "[[1.26840251 1.33630014 0.84789859 1.6723664 ]\n",
      " [0.97296106 1.21511296 0.73153235 1.39079334]\n",
      " [0.71783619 0.87305951 0.74315243 0.96034674]\n",
      " [0.58964684 0.7151429  0.59119581 0.80029281]]\n"
     ]
    }
   ],
   "source": [
    "print (np.linalg.matrix_power(vec_2, 2))"
   ]
  },
  {
   "cell_type": "code",
   "execution_count": 33,
   "metadata": {},
   "outputs": [
    {
     "name": "stdout",
     "output_type": "stream",
     "text": [
      "[[ 8.75499473 10.25863211  7.19720869 11.93441787]\n",
      " [ 7.33252966  8.59106231  6.02185656  9.99650419]\n",
      " [ 5.58940524  6.53869483  4.58267082  7.61527445]\n",
      " [ 4.57259187  5.34968926  3.74945608  6.23014483]]\n"
     ]
    }
   ],
   "source": [
    "print( np.linalg.matrix_power(vec_2, 5))"
   ]
  },
  {
   "cell_type": "markdown",
   "metadata": {},
   "source": [
    "# Eigenvalues"
   ]
  },
  {
   "cell_type": "code",
   "execution_count": 34,
   "metadata": {},
   "outputs": [],
   "source": [
    "import pylab as plt\n",
    "%matplotlib inline "
   ]
  },
  {
   "cell_type": "code",
   "execution_count": 35,
   "metadata": {},
   "outputs": [
    {
     "name": "stdout",
     "output_type": "stream",
     "text": [
      "[[-0.2963503  -0.50300837]\n",
      " [ 0.13162137 -0.00293142]\n",
      " [-0.6389373  -0.92508467]\n",
      " [-0.66634502 -0.30437335]]\n"
     ]
    }
   ],
   "source": [
    "circle_points = np.random.rand(1000,2)*2 -1 #this shifts the values to generate values between -1 and 1 \n",
    "print (circle_points[1:5, :])"
   ]
  },
  {
   "cell_type": "code",
   "execution_count": 36,
   "metadata": {},
   "outputs": [
    {
     "data": {
      "text/plain": [
       "<matplotlib.collections.PathCollection at 0x132e1a12630>"
      ]
     },
     "execution_count": 36,
     "metadata": {},
     "output_type": "execute_result"
    },
    {
     "data": {
      "image/png": "[encoded data removed]",
      "text/plain": [
       "<matplotlib.figure.Figure at 0x132e19a6e10>"
      ]
     },
     "metadata": {},
     "output_type": "display_data"
    }
   ],
   "source": [
    "plt.scatter(circle_points[:,0], circle_points[:,1])"
   ]
  },
  {
   "cell_type": "code",
   "execution_count": 37,
   "metadata": {},
   "outputs": [
    {
     "name": "stdout",
     "output_type": "stream",
     "text": [
      "[0.58381583 0.13165401 1.12428756 0.73257001]\n"
     ]
    }
   ],
   "source": [
    "dist_points = np.power(circle_points[:,0], 2) + np.power(circle_points[:,1], 2)\n",
    "dist_points = np.sqrt(dist_points)\n",
    "print (dist_points [1:5])"
   ]
  },
  {
   "cell_type": "code",
   "execution_count": 38,
   "metadata": {},
   "outputs": [
    {
     "name": "stdout",
     "output_type": "stream",
     "text": [
      "(array([  1,   2,   4,   5,   6,   8,  12,  15,  16,  17,  18,  20,  22,\n",
      "        23,  24,  25,  26,  27,  28,  29,  31,  33,  36,  37,  38,  39,\n",
      "        40,  41,  42,  43,  44,  45,  46,  47,  48,  49,  50,  51,  52,\n",
      "        55,  56,  57,  59,  61,  62,  64,  68,  69,  70,  71,  72,  73,\n",
      "        74,  75,  76,  77,  78,  79,  80,  81,  82,  83,  84,  85,  86,\n",
      "        87,  90,  91,  92,  93,  94,  95,  96,  97,  99, 100, 102, 103,\n",
      "       104, 105, 106, 108, 110, 111, 112, 113, 114, 115, 116, 117, 118,\n",
      "       119, 120, 121, 122, 123, 125, 126, 128, 130, 131, 132, 133, 134,\n",
      "       135, 136, 137, 139, 140, 141, 142, 143, 145, 146, 147, 148, 149,\n",
      "       150, 153, 154, 156, 157, 159, 160, 161, 162, 163, 164, 168, 169,\n",
      "       170, 171, 172, 175, 176, 177, 179, 180, 182, 183, 184, 185, 186,\n",
      "       187, 189, 190, 191, 193, 194, 195, 196, 197, 198, 199, 201, 204,\n",
      "       205, 206, 207, 208, 209, 210, 211, 212, 213, 214, 215, 216, 218,\n",
      "       219, 220, 221, 223, 224, 226, 227, 228, 229, 232, 234, 235, 238,\n",
      "       239, 240, 241, 242, 243, 244, 245, 247, 248, 249, 250, 251, 253,\n",
      "       255, 257, 258, 259, 260, 261, 262, 263, 264, 265, 268, 269, 270,\n",
      "       272, 273, 274, 275, 279, 280, 281, 282, 283, 284, 285, 286, 287,\n",
      "       288, 289, 290, 291, 292, 293, 294, 296, 297, 298, 300, 301, 302,\n",
      "       303, 304, 305, 306, 308, 309, 310, 311, 312, 313, 315, 317, 318,\n",
      "       320, 323, 325, 326, 327, 328, 330, 331, 332, 333, 334, 335, 336,\n",
      "       337, 338, 339, 340, 341, 343, 344, 345, 346, 347, 348, 349, 350,\n",
      "       351, 353, 355, 356, 357, 358, 359, 360, 361, 362, 363, 364, 365,\n",
      "       366, 367, 368, 369, 370, 373, 375, 377, 378, 379, 381, 384, 385,\n",
      "       387, 388, 389, 390, 391, 392, 393, 394, 395, 396, 397, 398, 399,\n",
      "       400, 401, 402, 404, 405, 406, 407, 408, 409, 410, 411, 412, 413,\n",
      "       414, 417, 418, 419, 420, 422, 423, 424, 425, 426, 427, 428, 429,\n",
      "       430, 431, 432, 434, 435, 436, 437, 438, 440, 441, 442, 443, 444,\n",
      "       445, 447, 448, 449, 451, 452, 453, 454, 456, 457, 458, 460, 463,\n",
      "       464, 465, 466, 467, 469, 470, 473, 474, 476, 477, 478, 479, 482,\n",
      "       483, 484, 485, 486, 487, 488, 489, 490, 491, 492, 493, 495, 497,\n",
      "       499, 500, 501, 502, 503, 504, 505, 506, 507, 508, 510, 511, 513,\n",
      "       515, 516, 517, 519, 520, 523, 524, 525, 526, 527, 529, 530, 531,\n",
      "       532, 534, 536, 537, 539, 540, 541, 542, 543, 548, 549, 550, 551,\n",
      "       552, 553, 555, 557, 558, 559, 561, 562, 563, 564, 565, 566, 567,\n",
      "       568, 569, 570, 571, 573, 574, 575, 576, 577, 578, 579, 580, 581,\n",
      "       582, 583, 585, 586, 588, 589, 590, 591, 592, 593, 594, 597, 598,\n",
      "       599, 600, 602, 603, 604, 605, 606, 607, 609, 610, 612, 613, 614,\n",
      "       616, 618, 619, 620, 621, 623, 624, 626, 627, 628, 630, 632, 634,\n",
      "       635, 636, 637, 638, 639, 640, 641, 643, 644, 645, 646, 647, 648,\n",
      "       649, 651, 652, 653, 655, 656, 657, 659, 660, 661, 662, 663, 664,\n",
      "       665, 666, 667, 669, 672, 673, 674, 675, 676, 677, 678, 681, 682,\n",
      "       683, 684, 685, 686, 687, 688, 689, 690, 691, 692, 693, 694, 696,\n",
      "       697, 698, 699, 701, 704, 708, 710, 711, 712, 713, 714, 715, 717,\n",
      "       718, 719, 720, 721, 722, 723, 724, 725, 727, 729, 730, 732, 733,\n",
      "       734, 736, 739, 740, 741, 744, 745, 746, 748, 749, 753, 754, 755,\n",
      "       756, 757, 758, 759, 762, 763, 764, 765, 766, 767, 768, 769, 770,\n",
      "       771, 772, 773, 774, 775, 776, 777, 778, 779, 780, 781, 782, 783,\n",
      "       784, 785, 786, 787, 790, 791, 792, 793, 794, 795, 796, 797, 798,\n",
      "       802, 803, 805, 806, 808, 810, 811, 812, 813, 814, 815, 816, 818,\n",
      "       819, 823, 825, 827, 828, 830, 831, 832, 833, 835, 836, 837, 838,\n",
      "       840, 841, 843, 845, 847, 849, 850, 851, 852, 853, 854, 856, 857,\n",
      "       859, 860, 861, 862, 863, 864, 865, 866, 867, 868, 869, 870, 872,\n",
      "       873, 874, 876, 877, 878, 879, 880, 881, 882, 883, 884, 885, 886,\n",
      "       887, 888, 890, 891, 892, 893, 895, 896, 898, 900, 901, 902, 903,\n",
      "       905, 907, 908, 909, 910, 911, 912, 913, 915, 917, 918, 919, 921,\n",
      "       922, 923, 924, 925, 926, 927, 929, 932, 933, 934, 935, 936, 937,\n",
      "       938, 939, 940, 941, 942, 943, 944, 945, 947, 948, 949, 952, 953,\n",
      "       954, 955, 956, 957, 958, 960, 962, 963, 965, 966, 967, 968, 969,\n",
      "       970, 971, 972, 973, 974, 976, 977, 978, 979, 981, 982, 983, 984,\n",
      "       986, 987, 988, 990, 991, 992, 993, 994, 995, 998], dtype=int64),)\n"
     ]
    }
   ],
   "source": [
    "print (np.nonzero(dist_points<1))"
   ]
  },
  {
   "cell_type": "code",
   "execution_count": 39,
   "metadata": {},
   "outputs": [],
   "source": [
    "inner_circle = circle_points[np.nonzero(dist_points<1)[0], :] #ask me about the zero"
   ]
  },
  {
   "cell_type": "code",
   "execution_count": 40,
   "metadata": {},
   "outputs": [
    {
     "data": {
      "image/png": "[encoded data removed]",
      "text/plain": [
       "<matplotlib.figure.Figure at 0x132e1a38978>"
      ]
     },
     "metadata": {},
     "output_type": "display_data"
    }
   ],
   "source": [
    "plt.scatter(inner_circle[:,0], inner_circle[:,1])\n",
    "plt.gca().set_aspect('equal', adjustable='box') #without this it doesn't look like a circle"
   ]
  },
  {
   "cell_type": "code",
   "execution_count": 41,
   "metadata": {},
   "outputs": [
    {
     "name": "stdout",
     "output_type": "stream",
     "text": [
      "(777, 2)\n"
     ]
    }
   ],
   "source": [
    "print( inner_circle.shape)"
   ]
  },
  {
   "cell_type": "code",
   "execution_count": 55,
   "metadata": {},
   "outputs": [
    {
     "name": "stdout",
     "output_type": "stream",
     "text": [
      "[[1 5]\n",
      " [5 1]]\n"
     ]
    }
   ],
   "source": [
    "transf_matrix = np.array([[1,5], [5,1]])\n",
    "print(transf_matrix)"
   ]
  },
  {
   "cell_type": "code",
   "execution_count": 56,
   "metadata": {},
   "outputs": [],
   "source": [
    "transf_dots = np.dot(transf_matrix, inner_circle.T).T"
   ]
  },
  {
   "cell_type": "code",
   "execution_count": 57,
   "metadata": {},
   "outputs": [
    {
     "name": "stdout",
     "output_type": "stream",
     "text": [
      "(777, 2)\n"
     ]
    }
   ],
   "source": [
    "print (transf_dots.shape)"
   ]
  },
  {
   "cell_type": "code",
   "execution_count": 58,
   "metadata": {},
   "outputs": [
    {
     "data": {
      "image/png": "[encoded data removed]",
      "text/plain": [
       "<matplotlib.figure.Figure at 0x132e1b65b00>"
      ]
     },
     "metadata": {},
     "output_type": "display_data"
    }
   ],
   "source": [
    "plt.scatter(transf_dots[:,0], transf_dots[:,1])\n",
    "plt.gca().set_aspect('equal', adjustable='box') #without this it doesn't look like a circle"
   ]
  },
  {
   "cell_type": "code",
   "execution_count": 59,
   "metadata": {},
   "outputs": [
    {
     "name": "stdout",
     "output_type": "stream",
     "text": [
      "(array([ 6., -4.]), array([[ 0.70710678, -0.70710678],\n",
      "       [ 0.70710678,  0.70710678]]))\n"
     ]
    }
   ],
   "source": [
    "print( np.linalg.eig(transf_matrix))"
   ]
  },
  {
   "cell_type": "markdown",
   "metadata": {},
   "source": [
    "[Go back to the main page](https://leonpalafox.github.io/MLClass/)"
   ]
  }
 ],
 "metadata": {
  "kernelspec": {
   "display_name": "Python 3",
   "language": "python",
   "name": "python3"
  },
  "language_info": {
   "codemirror_mode": {
    "name": "ipython",
    "version": 3
   },
   "file_extension": ".py",
   "mimetype": "text/x-python",
   "name": "python",
   "nbconvert_exporter": "python",
   "pygments_lexer": "ipython3",
   "version": "3.6.4"
  }
 },
 "nbformat": 4,
 "nbformat_minor": 1
}
